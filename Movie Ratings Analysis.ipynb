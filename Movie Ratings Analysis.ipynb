{
 "cells": [
  {
   "cell_type": "code",
   "execution_count": 1,
   "id": "e1b2b45f-7154-4041-80f4-7a9b2ffe953b",
   "metadata": {},
   "outputs": [
    {
     "ename": "ModuleNotFoundError",
     "evalue": "No module named 'imdb'",
     "output_type": "error",
     "traceback": [
      "\u001b[1;31m---------------------------------------------------------------------------\u001b[0m",
      "\u001b[1;31mModuleNotFoundError\u001b[0m                       Traceback (most recent call last)",
      "Cell \u001b[1;32mIn[1], line 5\u001b[0m\n\u001b[0;32m      3\u001b[0m \u001b[38;5;28;01mimport\u001b[39;00m \u001b[38;5;21;01mpandas\u001b[39;00m \u001b[38;5;28;01mas\u001b[39;00m \u001b[38;5;21;01mpd\u001b[39;00m\n\u001b[0;32m      4\u001b[0m \u001b[38;5;28;01mimport\u001b[39;00m \u001b[38;5;21;01mmatplotlib\u001b[39;00m\u001b[38;5;21;01m.\u001b[39;00m\u001b[38;5;21;01mpyplot\u001b[39;00m \u001b[38;5;28;01mas\u001b[39;00m \u001b[38;5;21;01mplt\u001b[39;00m\n\u001b[1;32m----> 5\u001b[0m \u001b[38;5;28;01mfrom\u001b[39;00m \u001b[38;5;21;01mimdb\u001b[39;00m \u001b[38;5;28;01mimport\u001b[39;00m IMDb\n\u001b[0;32m      6\u001b[0m \u001b[38;5;28;01mimport\u001b[39;00m \u001b[38;5;21;01mrequests\u001b[39;00m\n\u001b[0;32m      8\u001b[0m \u001b[38;5;66;03m# Initialize IMDb\u001b[39;00m\n",
      "\u001b[1;31mModuleNotFoundError\u001b[0m: No module named 'imdb'"
     ]
    }
   ],
   "source": [
    "#Import dependencies\n",
    "\n",
    "import pandas as pd\n",
    "import matplotlib.pyplot as plt\n",
    "from imdb import IMDb\n",
    "import requests\n",
    "\n",
    "# Initialize IMDb\n",
    "ia = IMDb()"
   ]
  },
  {
   "cell_type": "code",
   "execution_count": null,
   "id": "9cacbb74-8309-44f5-876b-632ad3cb7423",
   "metadata": {},
   "outputs": [],
   "source": [
    "# Fetch movies from a genre\n",
    "movies = ia.search_movie('action')"
   ]
  },
  {
   "cell_type": "code",
   "execution_count": null,
   "id": "7d290c47-758f-4888-aa14-9438200a9677",
   "metadata": {},
   "outputs": [],
   "source": [
    "# Prepare movie data\n",
    "movie_data = []\n",
    "for movie in movies:\n",
    "    if 'rating' in movie.keys() and 'genres' in movie.keys():\n",
    "        for genre in movie['genres']:\n",
    "            movie_data.append({'title': movie['title'], 'genre': genre, 'rating': movie['rating']})"
   ]
  },
  {
   "cell_type": "code",
   "execution_count": null,
   "id": "7727179b-e58e-4f3b-8db2-b83a77830957",
   "metadata": {},
   "outputs": [],
   "source": [
    "# Create DataFrame\n",
    "df_movies = pd.DataFrame(movie_data)"
   ]
  },
  {
   "cell_type": "code",
   "execution_count": null,
   "id": "25b28099-b47b-4f0b-bcdc-ef41ed39f768",
   "metadata": {},
   "outputs": [],
   "source": [
    "# Analyze ratings by genre\n",
    "genre_ratings = df_movies.groupby('genre')['rating'].mean().reset_index()\n",
    "genre_ratings = genre_ratings.sort_values(by='rating', ascending=False)"
   ]
  },
  {
   "cell_type": "code",
   "execution_count": null,
   "id": "df6750d2-ce14-4d0a-a907-2c1dc0044396",
   "metadata": {},
   "outputs": [],
   "source": [
    "# Visualize ratings by genre\n",
    "plt.figure(figsize=(10, 6))\n",
    "plt.barh(genre_ratings['genre'], genre_ratings['rating'], color='skyblue')\n",
    "plt.xlabel('Average Rating')\n",
    "plt.title('Average Movie Ratings by Genre')\n",
    "plt.show()"
   ]
  },
  {
   "cell_type": "code",
   "execution_count": null,
   "id": "788f33ac-585d-473b-9890-48d819164a52",
   "metadata": {},
   "outputs": [],
   "source": [
    "# Load user ratings dataset\n",
    "user_ratings = pd.read_csv('ratings.csv')  \n",
    "movies_info = pd.read_csv('movies.csv')    "
   ]
  },
  {
   "cell_type": "code",
   "execution_count": null,
   "id": "ddc9f0e7-e384-4828-a85d-e2737b51344d",
   "metadata": {},
   "outputs": [],
   "source": [
    "# Merge with movie genres\n",
    "user_ratings_with_genre = user_ratings.merge(movies_info, on='movieId')"
   ]
  },
  {
   "cell_type": "code",
   "execution_count": null,
   "id": "d1afd014-db02-4242-aafe-6615a91f0975",
   "metadata": {},
   "outputs": [],
   "source": [
    "# Analyze ratings by age group\n",
    "age_groups = pd.cut(user_ratings_with_genre['age'], bins=[0, 18, 30, 45, 60, 100], labels=['0-18', '19-30', '31-45', '46-60', '60+'])\n",
    "age_group_ratings = user_ratings_with_genre.groupby(age_groups)['rating'].mean().reset_index()"
   ]
  },
  {
   "cell_type": "code",
   "execution_count": null,
   "id": "5564de9c-19d8-4f9e-ac49-148173b491f4",
   "metadata": {},
   "outputs": [],
   "source": [
    "# Visualize ratings by age group\n",
    "plt.figure(figsize=(10, 6))\n",
    "plt.bar(age_group_ratings['age'], age_group_ratings['rating'], color='lightgreen')\n",
    "plt.xlabel('Age Group')\n",
    "plt.ylabel('Average Rating')\n",
    "plt.title('Average Ratings by Age Group')\n",
    "plt.show()"
   ]
  },
  {
   "cell_type": "code",
   "execution_count": null,
   "id": "7cd5cbe1-f260-4252-af1d-d1f0755c3939",
   "metadata": {},
   "outputs": [],
   "source": [
    "# Analyze ratings by gender\n",
    "gender_group_ratings = user_ratings_with_genre.groupby('gender')['rating'].mean().reset_index()"
   ]
  },
  {
   "cell_type": "code",
   "execution_count": null,
   "id": "9b8cc54d-9feb-4086-a8ff-57ada4f73f80",
   "metadata": {},
   "outputs": [],
   "source": [
    "# Visualize ratings by gender\n",
    "plt.figure(figsize=(10, 6))\n",
    "plt.bar(gender_group_ratings['gender'], gender_group_ratings['rating'], color='lightcoral')\n",
    "plt.xlabel('Gender')\n",
    "plt.ylabel('Average Rating')\n",
    "plt.title('Average Ratings by Gender')\n",
    "plt.show()"
   ]
  }
 ],
 "metadata": {
  "kernelspec": {
   "display_name": "Python 3 (ipykernel)",
   "language": "python",
   "name": "python3"
  },
  "language_info": {
   "codemirror_mode": {
    "name": "ipython",
    "version": 3
   },
   "file_extension": ".py",
   "mimetype": "text/x-python",
   "name": "python",
   "nbconvert_exporter": "python",
   "pygments_lexer": "ipython3",
   "version": "3.12.4"
  }
 },
 "nbformat": 4,
 "nbformat_minor": 5
}

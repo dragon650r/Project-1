{
 "cells": [
  {
   "cell_type": "code",
   "execution_count": 14,
   "id": "e1b2b45f-7154-4041-80f4-7a9b2ffe953b",
   "metadata": {},
   "outputs": [],
   "source": [
    "#Import dependencies\n",
    "import pandas as pd\n",
    "import matplotlib.pyplot as plt\n",
    "import requests"
   ]
  },
  {
   "cell_type": "code",
   "execution_count": 16,
   "id": "2cb576a7-92e0-4d32-9706-52d40999892f",
   "metadata": {},
   "outputs": [],
   "source": [
    "# Read the merged file\n",
    "movie_data = pd.read_csv(\"ml-latest-small/Merged_file.csv\")"
   ]
  },
  {
   "cell_type": "code",
   "execution_count": 18,
   "id": "9cacbb74-8309-44f5-876b-632ad3cb7423",
   "metadata": {},
   "outputs": [
    {
     "name": "stdout",
     "output_type": "stream",
     "text": [
      "        movieId                                      title  \\\n",
      "433           6                                Heat (1995)   \n",
      "434           6                                Heat (1995)   \n",
      "435           6                                Heat (1995)   \n",
      "436           6                                Heat (1995)   \n",
      "437           6                                Heat (1995)   \n",
      "...         ...                                        ...   \n",
      "100834   189547                        Iron Soldier (2010)   \n",
      "100843   191005                             Gintama (2017)   \n",
      "100844   193565                  Gintama: The Movie (2010)   \n",
      "100849   193581  Black Butler: Book of the Atlantic (2017)   \n",
      "100852   193587        Bungo Stray Dogs: Dead Apple (2018)   \n",
      "\n",
      "                                 genres  userId  rating     timestamp  \n",
      "433               Action|Crime|Thriller     1.0     4.0  9.649822e+08  \n",
      "434               Action|Crime|Thriller     6.0     4.0  8.455538e+08  \n",
      "435               Action|Crime|Thriller    11.0     5.0  9.021543e+08  \n",
      "436               Action|Crime|Thriller    18.0     4.0  1.460138e+09  \n",
      "437               Action|Crime|Thriller    23.0     4.0  1.107342e+09  \n",
      "...                                 ...     ...     ...           ...  \n",
      "100834                    Action|Sci-Fi   210.0     1.0  1.528486e+09  \n",
      "100843   Action|Adventure|Comedy|Sci-Fi   184.0     4.5  1.537109e+09  \n",
      "100844   Action|Animation|Comedy|Sci-Fi   184.0     3.5  1.537099e+09  \n",
      "100849  Action|Animation|Comedy|Fantasy   184.0     4.0  1.537109e+09  \n",
      "100852                 Action|Animation   184.0     3.5  1.537110e+09  \n",
      "\n",
      "[30635 rows x 6 columns]\n"
     ]
    }
   ],
   "source": [
    "# Action movies\n",
    "movies_genre = movie_data[movie_data[\"genres\"].str.contains(\"action\", case=False, na=False)]\n",
    "\n",
    "print(movies_genre)"
   ]
  },
  {
   "cell_type": "code",
   "execution_count": 20,
   "id": "7d290c47-758f-4888-aa14-9438200a9677",
   "metadata": {},
   "outputs": [
    {
     "name": "stdout",
     "output_type": "stream",
     "text": [
      "[]\n"
     ]
    }
   ],
   "source": [
    "# Data list\n",
    "movie_data = []\n",
    "# Prepare movie data\n",
    "movies_genre = []\n",
    "for movie in movies_genre:\n",
    "    if 'rating' in movie and 'genres' in movie:\n",
    "        for genre in movie['genres']:\n",
    "            movie_data.append({\"title\": movie[\"title\"],\n",
    "                               \"genres\": genre,\n",
    "                               \"rating\": movie[\"rating\"]})\n",
    "\n",
    "# Show the data\n",
    "print(movie_data)"
   ]
  },
  {
   "cell_type": "code",
   "execution_count": 30,
   "id": "7727179b-e58e-4f3b-8db2-b83a77830957",
   "metadata": {},
   "outputs": [],
   "source": [
    "# Create DataFrame\n",
    "df_movies = pd.DataFrame(movie_data)"
   ]
  },
  {
   "cell_type": "code",
   "execution_count": 32,
   "id": "25b28099-b47b-4f0b-bcdc-ef41ed39f768",
   "metadata": {},
   "outputs": [
    {
     "ename": "KeyError",
     "evalue": "'genres'",
     "output_type": "error",
     "traceback": [
      "\u001b[1;31m---------------------------------------------------------------------------\u001b[0m",
      "\u001b[1;31mKeyError\u001b[0m                                  Traceback (most recent call last)",
      "Cell \u001b[1;32mIn[32], line 2\u001b[0m\n\u001b[0;32m      1\u001b[0m \u001b[38;5;66;03m# Analyze ratings by genre\u001b[39;00m\n\u001b[1;32m----> 2\u001b[0m genre_ratings \u001b[38;5;241m=\u001b[39m df_movies\u001b[38;5;241m.\u001b[39mgroupby(\u001b[38;5;124m'\u001b[39m\u001b[38;5;124mgenres\u001b[39m\u001b[38;5;124m'\u001b[39m)[\u001b[38;5;124m'\u001b[39m\u001b[38;5;124mrating\u001b[39m\u001b[38;5;124m'\u001b[39m]\u001b[38;5;241m.\u001b[39mmean()\u001b[38;5;241m.\u001b[39mreset_index()\n\u001b[0;32m      3\u001b[0m genre_ratings \u001b[38;5;241m=\u001b[39m genre_ratings\u001b[38;5;241m.\u001b[39msort_values(by\u001b[38;5;241m=\u001b[39m\u001b[38;5;124m'\u001b[39m\u001b[38;5;124mrating\u001b[39m\u001b[38;5;124m'\u001b[39m, ascending\u001b[38;5;241m=\u001b[39m\u001b[38;5;28;01mFalse\u001b[39;00m)\n",
      "File \u001b[1;32m~\\anaconda3\\Lib\\site-packages\\pandas\\core\\frame.py:9183\u001b[0m, in \u001b[0;36mDataFrame.groupby\u001b[1;34m(self, by, axis, level, as_index, sort, group_keys, observed, dropna)\u001b[0m\n\u001b[0;32m   9180\u001b[0m \u001b[38;5;28;01mif\u001b[39;00m level \u001b[38;5;129;01mis\u001b[39;00m \u001b[38;5;28;01mNone\u001b[39;00m \u001b[38;5;129;01mand\u001b[39;00m by \u001b[38;5;129;01mis\u001b[39;00m \u001b[38;5;28;01mNone\u001b[39;00m:\n\u001b[0;32m   9181\u001b[0m     \u001b[38;5;28;01mraise\u001b[39;00m \u001b[38;5;167;01mTypeError\u001b[39;00m(\u001b[38;5;124m\"\u001b[39m\u001b[38;5;124mYou have to supply one of \u001b[39m\u001b[38;5;124m'\u001b[39m\u001b[38;5;124mby\u001b[39m\u001b[38;5;124m'\u001b[39m\u001b[38;5;124m and \u001b[39m\u001b[38;5;124m'\u001b[39m\u001b[38;5;124mlevel\u001b[39m\u001b[38;5;124m'\u001b[39m\u001b[38;5;124m\"\u001b[39m)\n\u001b[1;32m-> 9183\u001b[0m \u001b[38;5;28;01mreturn\u001b[39;00m DataFrameGroupBy(\n\u001b[0;32m   9184\u001b[0m     obj\u001b[38;5;241m=\u001b[39m\u001b[38;5;28mself\u001b[39m,\n\u001b[0;32m   9185\u001b[0m     keys\u001b[38;5;241m=\u001b[39mby,\n\u001b[0;32m   9186\u001b[0m     axis\u001b[38;5;241m=\u001b[39maxis,\n\u001b[0;32m   9187\u001b[0m     level\u001b[38;5;241m=\u001b[39mlevel,\n\u001b[0;32m   9188\u001b[0m     as_index\u001b[38;5;241m=\u001b[39mas_index,\n\u001b[0;32m   9189\u001b[0m     sort\u001b[38;5;241m=\u001b[39msort,\n\u001b[0;32m   9190\u001b[0m     group_keys\u001b[38;5;241m=\u001b[39mgroup_keys,\n\u001b[0;32m   9191\u001b[0m     observed\u001b[38;5;241m=\u001b[39mobserved,\n\u001b[0;32m   9192\u001b[0m     dropna\u001b[38;5;241m=\u001b[39mdropna,\n\u001b[0;32m   9193\u001b[0m )\n",
      "File \u001b[1;32m~\\anaconda3\\Lib\\site-packages\\pandas\\core\\groupby\\groupby.py:1329\u001b[0m, in \u001b[0;36mGroupBy.__init__\u001b[1;34m(self, obj, keys, axis, level, grouper, exclusions, selection, as_index, sort, group_keys, observed, dropna)\u001b[0m\n\u001b[0;32m   1326\u001b[0m \u001b[38;5;28mself\u001b[39m\u001b[38;5;241m.\u001b[39mdropna \u001b[38;5;241m=\u001b[39m dropna\n\u001b[0;32m   1328\u001b[0m \u001b[38;5;28;01mif\u001b[39;00m grouper \u001b[38;5;129;01mis\u001b[39;00m \u001b[38;5;28;01mNone\u001b[39;00m:\n\u001b[1;32m-> 1329\u001b[0m     grouper, exclusions, obj \u001b[38;5;241m=\u001b[39m get_grouper(\n\u001b[0;32m   1330\u001b[0m         obj,\n\u001b[0;32m   1331\u001b[0m         keys,\n\u001b[0;32m   1332\u001b[0m         axis\u001b[38;5;241m=\u001b[39maxis,\n\u001b[0;32m   1333\u001b[0m         level\u001b[38;5;241m=\u001b[39mlevel,\n\u001b[0;32m   1334\u001b[0m         sort\u001b[38;5;241m=\u001b[39msort,\n\u001b[0;32m   1335\u001b[0m         observed\u001b[38;5;241m=\u001b[39m\u001b[38;5;28;01mFalse\u001b[39;00m \u001b[38;5;28;01mif\u001b[39;00m observed \u001b[38;5;129;01mis\u001b[39;00m lib\u001b[38;5;241m.\u001b[39mno_default \u001b[38;5;28;01melse\u001b[39;00m observed,\n\u001b[0;32m   1336\u001b[0m         dropna\u001b[38;5;241m=\u001b[39m\u001b[38;5;28mself\u001b[39m\u001b[38;5;241m.\u001b[39mdropna,\n\u001b[0;32m   1337\u001b[0m     )\n\u001b[0;32m   1339\u001b[0m \u001b[38;5;28;01mif\u001b[39;00m observed \u001b[38;5;129;01mis\u001b[39;00m lib\u001b[38;5;241m.\u001b[39mno_default:\n\u001b[0;32m   1340\u001b[0m     \u001b[38;5;28;01mif\u001b[39;00m \u001b[38;5;28many\u001b[39m(ping\u001b[38;5;241m.\u001b[39m_passed_categorical \u001b[38;5;28;01mfor\u001b[39;00m ping \u001b[38;5;129;01min\u001b[39;00m grouper\u001b[38;5;241m.\u001b[39mgroupings):\n",
      "File \u001b[1;32m~\\anaconda3\\Lib\\site-packages\\pandas\\core\\groupby\\grouper.py:1043\u001b[0m, in \u001b[0;36mget_grouper\u001b[1;34m(obj, key, axis, level, sort, observed, validate, dropna)\u001b[0m\n\u001b[0;32m   1041\u001b[0m         in_axis, level, gpr \u001b[38;5;241m=\u001b[39m \u001b[38;5;28;01mFalse\u001b[39;00m, gpr, \u001b[38;5;28;01mNone\u001b[39;00m\n\u001b[0;32m   1042\u001b[0m     \u001b[38;5;28;01melse\u001b[39;00m:\n\u001b[1;32m-> 1043\u001b[0m         \u001b[38;5;28;01mraise\u001b[39;00m \u001b[38;5;167;01mKeyError\u001b[39;00m(gpr)\n\u001b[0;32m   1044\u001b[0m \u001b[38;5;28;01melif\u001b[39;00m \u001b[38;5;28misinstance\u001b[39m(gpr, Grouper) \u001b[38;5;129;01mand\u001b[39;00m gpr\u001b[38;5;241m.\u001b[39mkey \u001b[38;5;129;01mis\u001b[39;00m \u001b[38;5;129;01mnot\u001b[39;00m \u001b[38;5;28;01mNone\u001b[39;00m:\n\u001b[0;32m   1045\u001b[0m     \u001b[38;5;66;03m# Add key to exclusions\u001b[39;00m\n\u001b[0;32m   1046\u001b[0m     exclusions\u001b[38;5;241m.\u001b[39madd(gpr\u001b[38;5;241m.\u001b[39mkey)\n",
      "\u001b[1;31mKeyError\u001b[0m: 'genres'"
     ]
    }
   ],
   "source": [
    "# Analyze ratings by genre\n",
    "genre_ratings = df_movies.groupby('genres')['rating'].mean().reset_index()\n",
    "genre_ratings = genre_ratings.sort_values(by='rating', ascending=False)"
   ]
  },
  {
   "cell_type": "code",
   "execution_count": null,
   "id": "df6750d2-ce14-4d0a-a907-2c1dc0044396",
   "metadata": {},
   "outputs": [],
   "source": [
    "# Visualize ratings by genre\n",
    "plt.figure(figsize=(10, 6))\n",
    "plt.barh(genre_ratings['genre'], genre_ratings['rating'], color='skyblue')\n",
    "plt.xlabel('Average Rating')\n",
    "plt.title('Average Movie Ratings by Genre')\n",
    "plt.show()"
   ]
  },
  {
   "cell_type": "code",
   "execution_count": null,
   "id": "788f33ac-585d-473b-9890-48d819164a52",
   "metadata": {},
   "outputs": [],
   "source": [
    "# Load user ratings dataset\n",
    "user_ratings = pd.read_csv('ratings.csv')  \n",
    "movies_info = pd.read_csv('movies.csv')    "
   ]
  },
  {
   "cell_type": "code",
   "execution_count": null,
   "id": "ddc9f0e7-e384-4828-a85d-e2737b51344d",
   "metadata": {},
   "outputs": [],
   "source": [
    "# Merge with movie genres\n",
    "user_ratings_with_genre = user_ratings.merge(movies_info, on='movieId')"
   ]
  },
  {
   "cell_type": "code",
   "execution_count": null,
   "id": "d1afd014-db02-4242-aafe-6615a91f0975",
   "metadata": {},
   "outputs": [],
   "source": [
    "# Analyze ratings by age group\n",
    "age_groups = pd.cut(user_ratings_with_genre['age'], bins=[0, 18, 30, 45, 60, 100], labels=['0-18', '19-30', '31-45', '46-60', '60+'])\n",
    "age_group_ratings = user_ratings_with_genre.groupby(age_groups)['rating'].mean().reset_index()"
   ]
  },
  {
   "cell_type": "code",
   "execution_count": null,
   "id": "5564de9c-19d8-4f9e-ac49-148173b491f4",
   "metadata": {},
   "outputs": [],
   "source": [
    "# Visualize ratings by age group\n",
    "plt.figure(figsize=(10, 6))\n",
    "plt.bar(age_group_ratings['age'], age_group_ratings['rating'], color='lightgreen')\n",
    "plt.xlabel('Age Group')\n",
    "plt.ylabel('Average Rating')\n",
    "plt.title('Average Ratings by Age Group')\n",
    "plt.show()"
   ]
  },
  {
   "cell_type": "code",
   "execution_count": null,
   "id": "7cd5cbe1-f260-4252-af1d-d1f0755c3939",
   "metadata": {},
   "outputs": [],
   "source": [
    "# Analyze ratings by gender\n",
    "gender_group_ratings = user_ratings_with_genre.groupby('gender')['rating'].mean().reset_index()"
   ]
  },
  {
   "cell_type": "code",
   "execution_count": null,
   "id": "9b8cc54d-9feb-4086-a8ff-57ada4f73f80",
   "metadata": {},
   "outputs": [],
   "source": [
    "# Visualize ratings by gender\n",
    "plt.figure(figsize=(10, 6))\n",
    "plt.bar(gender_group_ratings['gender'], gender_group_ratings['rating'], color='lightcoral')\n",
    "plt.xlabel('Gender')\n",
    "plt.ylabel('Average Rating')\n",
    "plt.title('Average Ratings by Gender')\n",
    "plt.show()"
   ]
  }
 ],
 "metadata": {
  "kernelspec": {
   "display_name": "Python 3 (ipykernel)",
   "language": "python",
   "name": "python3"
  },
  "language_info": {
   "codemirror_mode": {
    "name": "ipython",
    "version": 3
   },
   "file_extension": ".py",
   "mimetype": "text/x-python",
   "name": "python",
   "nbconvert_exporter": "python",
   "pygments_lexer": "ipython3",
   "version": "3.12.4"
  }
 },
 "nbformat": 4,
 "nbformat_minor": 5
}

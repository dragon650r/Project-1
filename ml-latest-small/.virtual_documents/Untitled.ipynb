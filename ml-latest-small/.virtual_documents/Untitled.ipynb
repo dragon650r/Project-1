import pandas as pd


# Read two files
df1 = pd.read_csv("movies.csv")
df2 = pd.read_csv("ratings.csv")


# Meeeeeerging
merged_df = pd.merge(df1, df2, on='movieId', how='outer')


merged_df.to_csv('merged_file.csv', index=False)
merged_df.head()




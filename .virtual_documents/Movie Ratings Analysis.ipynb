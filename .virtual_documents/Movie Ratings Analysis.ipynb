#Import dependencies
import pandas as pd
import matplotlib.pyplot as plt
import requests


# Read the merged file
movie_data = pd.read_csv("ml-latest-small/Merged_file.csv")


# Action movies
movies_genre = movie_data[movie_data["genres"].str.contains("action", case=False, na=False)]

print(movies_genre)


# Data list
movie_data = []
# Prepare movie data
movies_genre = []
for movie in movies_genre:
    if 'rating' in movie and 'genres' in movie:
        for genre in movie['genres']:
            movie_data.append({"title": movie["title"],
                               "genres": genre,
                               "rating": movie["rating"]})

# Show the data
print(movie_data)


# Create DataFrame
df_movies = pd.DataFrame(movie_data)


# Analyze ratings by genre
genre_ratings = df_movies.groupby('genres')['rating'].mean().reset_index()
genre_ratings = genre_ratings.sort_values(by='rating', ascending=False)


# Visualize ratings by genre
plt.figure(figsize=(10, 6))
plt.barh(genre_ratings['genre'], genre_ratings['rating'], color='skyblue')
plt.xlabel('Average Rating')
plt.title('Average Movie Ratings by Genre')
plt.show()


# Load user ratings dataset
user_ratings = pd.read_csv('ratings.csv')  
movies_info = pd.read_csv('movies.csv')    


# Merge with movie genres
user_ratings_with_genre = user_ratings.merge(movies_info, on='movieId')


# Analyze ratings by age group
age_groups = pd.cut(user_ratings_with_genre['age'], bins=[0, 18, 30, 45, 60, 100], labels=['0-18', '19-30', '31-45', '46-60', '60+'])
age_group_ratings = user_ratings_with_genre.groupby(age_groups)['rating'].mean().reset_index()


# Visualize ratings by age group
plt.figure(figsize=(10, 6))
plt.bar(age_group_ratings['age'], age_group_ratings['rating'], color='lightgreen')
plt.xlabel('Age Group')
plt.ylabel('Average Rating')
plt.title('Average Ratings by Age Group')
plt.show()


# Analyze ratings by gender
gender_group_ratings = user_ratings_with_genre.groupby('gender')['rating'].mean().reset_index()


# Visualize ratings by gender
plt.figure(figsize=(10, 6))
plt.bar(gender_group_ratings['gender'], gender_group_ratings['rating'], color='lightcoral')
plt.xlabel('Gender')
plt.ylabel('Average Rating')
plt.title('Average Ratings by Gender')
plt.show()
